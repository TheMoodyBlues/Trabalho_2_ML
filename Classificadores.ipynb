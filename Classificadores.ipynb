{
 "cells": [
  {
   "cell_type": "markdown",
   "id": "buried-montreal",
   "metadata": {},
   "source": [
    "# Latin prose/verse classification with RF classifier and full feature set\n"
   ]
  },
  {
   "cell_type": "code",
   "execution_count": 1,
   "id": "respiratory-compatibility",
   "metadata": {},
   "outputs": [],
   "source": [
    "# Pacotes de pré-processamento\n",
    "from sklearn import preprocessing\n",
    "from sklearn.utils import shuffle\n",
    "\n",
    "# Load pandas and numpy\n",
    "import pandas as pd\n",
    "import numpy as np\n",
    "\n",
    "# Classificadores\n",
    "from sklearn.ensemble import RandomForestClassifier, AdaBoostClassifier\n",
    "from sklearn import svm\n",
    "from sklearn.metrics import accuracy_score\n",
    "\n",
    "\n",
    "# Validação cruzada\n",
    "from sklearn import model_selection\n",
    "from sklearn.model_selection import cross_val_score, cross_val_predict\n",
    "from sklearn import metrics\n",
    "\n",
    "\n",
    "# Visualização dos resultados\n",
    "import shap\n",
    "\n",
    "\n",
    "# Plot\n",
    "import matplotlib.pyplot as plt"
   ]
  },
  {
   "cell_type": "code",
   "execution_count": 2,
   "id": "allied-protest",
   "metadata": {},
   "outputs": [],
   "source": [
    "# Seed random number generator so that identical results will be generated each time\n",
    "np.random.seed(0)"
   ]
  },
  {
   "cell_type": "code",
   "execution_count": 3,
   "id": "wound-better",
   "metadata": {},
   "outputs": [],
   "source": [
    "# Load data\n",
    "df0 = pd.read_csv(\"stylometry_data_final.csv\")\n",
    "\n",
    "# Shuffle the order of the texts\n",
    "df = shuffle(df0, random_state=1)"
   ]
  },
  {
   "cell_type": "code",
   "execution_count": 4,
   "id": "synthetic-stanley",
   "metadata": {},
   "outputs": [
    {
     "data": {
      "text/html": [
       "<div>\n",
       "<style scoped>\n",
       "    .dataframe tbody tr th:only-of-type {\n",
       "        vertical-align: middle;\n",
       "    }\n",
       "\n",
       "    .dataframe tbody tr th {\n",
       "        vertical-align: top;\n",
       "    }\n",
       "\n",
       "    .dataframe thead th {\n",
       "        text-align: right;\n",
       "    }\n",
       "</style>\n",
       "<table border=\"1\" class=\"dataframe\">\n",
       "  <thead>\n",
       "    <tr style=\"text-align: right;\">\n",
       "      <th></th>\n",
       "      <th>Personal Pronouns</th>\n",
       "      <th>Demonstrative Pronouns</th>\n",
       "      <th>Quidam</th>\n",
       "      <th>Reflexive Pronouns</th>\n",
       "      <th>Iste</th>\n",
       "      <th>Alius</th>\n",
       "      <th>Ipse</th>\n",
       "      <th>Idem</th>\n",
       "      <th>Priusquam</th>\n",
       "      <th>Antequam</th>\n",
       "      <th>...</th>\n",
       "      <th>Gerunds and Gerundives</th>\n",
       "      <th>Cum</th>\n",
       "      <th>Conjunctions</th>\n",
       "      <th>Vocatives</th>\n",
       "      <th>Mean Sentence Length</th>\n",
       "      <th>Characters</th>\n",
       "      <th>Words</th>\n",
       "      <th>Corpus Name</th>\n",
       "      <th>Sentences</th>\n",
       "      <th>Type</th>\n",
       "    </tr>\n",
       "  </thead>\n",
       "  <tbody>\n",
       "    <tr>\n",
       "      <th>579</th>\n",
       "      <td>0.00020</td>\n",
       "      <td>0.00658</td>\n",
       "      <td>0.00005</td>\n",
       "      <td>0.00098</td>\n",
       "      <td>0.00000</td>\n",
       "      <td>0.00059</td>\n",
       "      <td>0.00032</td>\n",
       "      <td>0.00027</td>\n",
       "      <td>0.00000</td>\n",
       "      <td>0.0001</td>\n",
       "      <td>...</td>\n",
       "      <td>0.00044</td>\n",
       "      <td>0.00166</td>\n",
       "      <td>0.01694</td>\n",
       "      <td>0.00000</td>\n",
       "      <td>139.52381</td>\n",
       "      <td>41,020</td>\n",
       "      <td>6,918</td>\n",
       "      <td>Vitruvius De Architectura Part 2</td>\n",
       "      <td>294</td>\n",
       "      <td>Prose</td>\n",
       "    </tr>\n",
       "    <tr>\n",
       "      <th>284</th>\n",
       "      <td>0.00106</td>\n",
       "      <td>0.00175</td>\n",
       "      <td>0.00006</td>\n",
       "      <td>0.00086</td>\n",
       "      <td>0.00000</td>\n",
       "      <td>0.00040</td>\n",
       "      <td>0.00112</td>\n",
       "      <td>0.00023</td>\n",
       "      <td>0.00000</td>\n",
       "      <td>0.0000</td>\n",
       "      <td>...</td>\n",
       "      <td>0.00066</td>\n",
       "      <td>0.00046</td>\n",
       "      <td>0.02248</td>\n",
       "      <td>0.00000</td>\n",
       "      <td>125.43885</td>\n",
       "      <td>34,872</td>\n",
       "      <td>6,091</td>\n",
       "      <td>Manilius Astronomicon Part 4</td>\n",
       "      <td>278</td>\n",
       "      <td>Verse</td>\n",
       "    </tr>\n",
       "    <tr>\n",
       "      <th>23</th>\n",
       "      <td>0.00336</td>\n",
       "      <td>0.00220</td>\n",
       "      <td>0.00028</td>\n",
       "      <td>0.00031</td>\n",
       "      <td>0.00060</td>\n",
       "      <td>0.00038</td>\n",
       "      <td>0.00110</td>\n",
       "      <td>0.00019</td>\n",
       "      <td>0.00000</td>\n",
       "      <td>0.0000</td>\n",
       "      <td>...</td>\n",
       "      <td>0.00031</td>\n",
       "      <td>0.00016</td>\n",
       "      <td>0.01305</td>\n",
       "      <td>0.00000</td>\n",
       "      <td>214.87162</td>\n",
       "      <td>31,801</td>\n",
       "      <td>4,920</td>\n",
       "      <td>Apuleius Metamorphoses Part 11</td>\n",
       "      <td>148</td>\n",
       "      <td>Prose</td>\n",
       "    </tr>\n",
       "    <tr>\n",
       "      <th>494</th>\n",
       "      <td>0.00217</td>\n",
       "      <td>0.00372</td>\n",
       "      <td>0.00000</td>\n",
       "      <td>0.00040</td>\n",
       "      <td>0.00000</td>\n",
       "      <td>0.00025</td>\n",
       "      <td>0.00054</td>\n",
       "      <td>0.00014</td>\n",
       "      <td>0.00000</td>\n",
       "      <td>0.0000</td>\n",
       "      <td>...</td>\n",
       "      <td>0.00022</td>\n",
       "      <td>0.00007</td>\n",
       "      <td>0.01695</td>\n",
       "      <td>0.00011</td>\n",
       "      <td>167.64848</td>\n",
       "      <td>27,662</td>\n",
       "      <td>4,757</td>\n",
       "      <td>Statius Thebaid Part 2</td>\n",
       "      <td>165</td>\n",
       "      <td>Verse</td>\n",
       "    </tr>\n",
       "    <tr>\n",
       "      <th>547</th>\n",
       "      <td>0.00329</td>\n",
       "      <td>0.00402</td>\n",
       "      <td>0.00000</td>\n",
       "      <td>0.00065</td>\n",
       "      <td>0.00019</td>\n",
       "      <td>0.00038</td>\n",
       "      <td>0.00073</td>\n",
       "      <td>0.00015</td>\n",
       "      <td>0.00004</td>\n",
       "      <td>0.0000</td>\n",
       "      <td>...</td>\n",
       "      <td>0.00011</td>\n",
       "      <td>0.00023</td>\n",
       "      <td>0.01642</td>\n",
       "      <td>0.00004</td>\n",
       "      <td>87.40134</td>\n",
       "      <td>26,133</td>\n",
       "      <td>4,663</td>\n",
       "      <td>Valerius Flaccus Argonautica Part 5</td>\n",
       "      <td>299</td>\n",
       "      <td>Verse</td>\n",
       "    </tr>\n",
       "  </tbody>\n",
       "</table>\n",
       "<p>5 rows × 31 columns</p>\n",
       "</div>"
      ],
      "text/plain": [
       "     Personal Pronouns  Demonstrative Pronouns   Quidam  Reflexive Pronouns  \\\n",
       "579            0.00020                 0.00658  0.00005             0.00098   \n",
       "284            0.00106                 0.00175  0.00006             0.00086   \n",
       "23             0.00336                 0.00220  0.00028             0.00031   \n",
       "494            0.00217                 0.00372  0.00000             0.00040   \n",
       "547            0.00329                 0.00402  0.00000             0.00065   \n",
       "\n",
       "        Iste    Alius     Ipse     Idem  Priusquam  Antequam  ...  \\\n",
       "579  0.00000  0.00059  0.00032  0.00027    0.00000    0.0001  ...   \n",
       "284  0.00000  0.00040  0.00112  0.00023    0.00000    0.0000  ...   \n",
       "23   0.00060  0.00038  0.00110  0.00019    0.00000    0.0000  ...   \n",
       "494  0.00000  0.00025  0.00054  0.00014    0.00000    0.0000  ...   \n",
       "547  0.00019  0.00038  0.00073  0.00015    0.00004    0.0000  ...   \n",
       "\n",
       "     Gerunds and Gerundives      Cum  Conjunctions  Vocatives  \\\n",
       "579                 0.00044  0.00166       0.01694    0.00000   \n",
       "284                 0.00066  0.00046       0.02248    0.00000   \n",
       "23                  0.00031  0.00016       0.01305    0.00000   \n",
       "494                 0.00022  0.00007       0.01695    0.00011   \n",
       "547                 0.00011  0.00023       0.01642    0.00004   \n",
       "\n",
       "     Mean Sentence Length  Characters  Words  \\\n",
       "579             139.52381      41,020  6,918   \n",
       "284             125.43885      34,872  6,091   \n",
       "23              214.87162      31,801  4,920   \n",
       "494             167.64848      27,662  4,757   \n",
       "547              87.40134      26,133  4,663   \n",
       "\n",
       "                             Corpus Name  Sentences   Type  \n",
       "579     Vitruvius De Architectura Part 2        294  Prose  \n",
       "284         Manilius Astronomicon Part 4        278  Verse  \n",
       "23        Apuleius Metamorphoses Part 11        148  Prose  \n",
       "494               Statius Thebaid Part 2        165  Verse  \n",
       "547  Valerius Flaccus Argonautica Part 5        299  Verse  \n",
       "\n",
       "[5 rows x 31 columns]"
      ]
     },
     "execution_count": 4,
     "metadata": {},
     "output_type": "execute_result"
    }
   ],
   "source": [
    "df.head()"
   ]
  },
  {
   "cell_type": "code",
   "execution_count": 5,
   "id": "federal-contact",
   "metadata": {},
   "outputs": [],
   "source": [
    "array = df.values\n",
    "\n",
    "# Matriz de covariáveis\n",
    "X = array[:,0:26]\n",
    "\n",
    "# Legenda\n",
    "Y = array[:,30]\n",
    "features = df.columns[0:26]\n"
   ]
  },
  {
   "cell_type": "markdown",
   "id": "listed-consent",
   "metadata": {},
   "source": [
    "Padronizando os dados entre 0 e 1"
   ]
  },
  {
   "cell_type": "code",
   "execution_count": 6,
   "id": "domestic-retention",
   "metadata": {},
   "outputs": [],
   "source": [
    "# Rescale data so that min is 0 and max is 1\n",
    "min_max_scaler = preprocessing.MinMaxScaler()\n",
    "X_scaled = min_max_scaler.fit_transform(X)"
   ]
  },
  {
   "cell_type": "markdown",
   "id": "second-northern",
   "metadata": {},
   "source": [
    "## Random Forest"
   ]
  },
  {
   "cell_type": "markdown",
   "id": "excellent-original",
   "metadata": {},
   "source": [
    "### Testando tunagem do modelo"
   ]
  },
  {
   "cell_type": "code",
   "execution_count": 7,
   "id": "dietary-convergence",
   "metadata": {},
   "outputs": [
    {
     "data": {
      "text/plain": [
       "{'max_depth': 6, 'max_features': 'auto', 'n_estimators': 20}"
      ]
     },
     "execution_count": 7,
     "metadata": {},
     "output_type": "execute_result"
    }
   ],
   "source": [
    "param_grid = {\n",
    "    \"max_depth\": [2, 3, 4, 5, 6],\n",
    "    \"max_features\": [\"auto\", \"sqrt\", \"log2\"],\n",
    "    \"n_estimators\": [10, 20, 50, 100]\n",
    "}\n",
    "\n",
    "rf = RandomForestClassifier()\n",
    "rf_cv = model_selection.GridSearchCV(estimator=rf, param_grid=param_grid, cv=10)\n",
    "rf_cv.fit(X_scaled, Y)\n",
    "\n",
    "# Mostrando os melhores parâmetros\n",
    "rf_cv.best_params_"
   ]
  },
  {
   "cell_type": "markdown",
   "id": "sudden-oregon",
   "metadata": {},
   "source": [
    "### Validação cruzada 5-fold\n"
   ]
  },
  {
   "cell_type": "markdown",
   "id": "raised-montreal",
   "metadata": {},
   "source": [
    "Como não fizemos nenhum tratamento nos dados, vamos usar a própria validação do pacote"
   ]
  },
  {
   "cell_type": "code",
   "execution_count": 8,
   "id": "respective-kingston",
   "metadata": {},
   "outputs": [],
   "source": [
    "clf = RandomForestClassifier(n_estimators=50, min_samples_leaf=10, max_depth = 6)\n",
    "results = model_selection.cross_val_score(clf, X_scaled, Y, cv=5, scoring='accuracy')"
   ]
  },
  {
   "cell_type": "markdown",
   "id": "underlying-flavor",
   "metadata": {},
   "source": [
    "### Acurácia de cada fold"
   ]
  },
  {
   "cell_type": "code",
   "execution_count": 9,
   "id": "compressed-spank",
   "metadata": {},
   "outputs": [
    {
     "data": {
      "text/html": [
       "<div>\n",
       "<style scoped>\n",
       "    .dataframe tbody tr th:only-of-type {\n",
       "        vertical-align: middle;\n",
       "    }\n",
       "\n",
       "    .dataframe tbody tr th {\n",
       "        vertical-align: top;\n",
       "    }\n",
       "\n",
       "    .dataframe thead th {\n",
       "        text-align: right;\n",
       "    }\n",
       "</style>\n",
       "<table border=\"1\" class=\"dataframe\">\n",
       "  <thead>\n",
       "    <tr style=\"text-align: right;\">\n",
       "      <th></th>\n",
       "      <th>0</th>\n",
       "    </tr>\n",
       "  </thead>\n",
       "  <tbody>\n",
       "    <tr>\n",
       "      <th>0</th>\n",
       "      <td>0.974576</td>\n",
       "    </tr>\n",
       "    <tr>\n",
       "      <th>1</th>\n",
       "      <td>0.991525</td>\n",
       "    </tr>\n",
       "    <tr>\n",
       "      <th>2</th>\n",
       "      <td>0.965812</td>\n",
       "    </tr>\n",
       "    <tr>\n",
       "      <th>3</th>\n",
       "      <td>0.991453</td>\n",
       "    </tr>\n",
       "    <tr>\n",
       "      <th>4</th>\n",
       "      <td>0.965812</td>\n",
       "    </tr>\n",
       "  </tbody>\n",
       "</table>\n",
       "</div>"
      ],
      "text/plain": [
       "          0\n",
       "0  0.974576\n",
       "1  0.991525\n",
       "2  0.965812\n",
       "3  0.991453\n",
       "4  0.965812"
      ]
     },
     "execution_count": 9,
     "metadata": {},
     "output_type": "execute_result"
    }
   ],
   "source": [
    "df_results = pd.DataFrame(results)\n",
    "\n",
    "df_results"
   ]
  },
  {
   "cell_type": "code",
   "execution_count": 10,
   "id": "homeless-buffalo",
   "metadata": {},
   "outputs": [
    {
     "data": {
      "text/plain": [
       "0.9778357235984355"
      ]
     },
     "execution_count": 10,
     "metadata": {},
     "output_type": "execute_result"
    }
   ],
   "source": [
    "results.mean()"
   ]
  },
  {
   "cell_type": "markdown",
   "id": "latin-oliver",
   "metadata": {},
   "source": [
    "### Legendando os dados com o real vs. predito"
   ]
  },
  {
   "cell_type": "code",
   "execution_count": 11,
   "id": "urban-hospital",
   "metadata": {},
   "outputs": [
    {
     "data": {
      "text/html": [
       "<div>\n",
       "<style scoped>\n",
       "    .dataframe tbody tr th:only-of-type {\n",
       "        vertical-align: middle;\n",
       "    }\n",
       "\n",
       "    .dataframe tbody tr th {\n",
       "        vertical-align: top;\n",
       "    }\n",
       "\n",
       "    .dataframe thead th {\n",
       "        text-align: right;\n",
       "    }\n",
       "</style>\n",
       "<table border=\"1\" class=\"dataframe\">\n",
       "  <thead>\n",
       "    <tr style=\"text-align: right;\">\n",
       "      <th></th>\n",
       "      <th>0</th>\n",
       "      <th>1</th>\n",
       "      <th>2</th>\n",
       "    </tr>\n",
       "  </thead>\n",
       "  <tbody>\n",
       "    <tr>\n",
       "      <th>0</th>\n",
       "      <td>Vitruvius De Architectura Part 2</td>\n",
       "      <td>Prose</td>\n",
       "      <td>Prose</td>\n",
       "    </tr>\n",
       "    <tr>\n",
       "      <th>1</th>\n",
       "      <td>Manilius Astronomicon Part 4</td>\n",
       "      <td>Verse</td>\n",
       "      <td>Verse</td>\n",
       "    </tr>\n",
       "    <tr>\n",
       "      <th>2</th>\n",
       "      <td>Apuleius Metamorphoses Part 11</td>\n",
       "      <td>Prose</td>\n",
       "      <td>Prose</td>\n",
       "    </tr>\n",
       "    <tr>\n",
       "      <th>3</th>\n",
       "      <td>Statius Thebaid Part 2</td>\n",
       "      <td>Verse</td>\n",
       "      <td>Verse</td>\n",
       "    </tr>\n",
       "    <tr>\n",
       "      <th>4</th>\n",
       "      <td>Valerius Flaccus Argonautica Part 5</td>\n",
       "      <td>Verse</td>\n",
       "      <td>Verse</td>\n",
       "    </tr>\n",
       "  </tbody>\n",
       "</table>\n",
       "</div>"
      ],
      "text/plain": [
       "                                     0      1      2\n",
       "0     Vitruvius De Architectura Part 2  Prose  Prose\n",
       "1         Manilius Astronomicon Part 4  Verse  Verse\n",
       "2       Apuleius Metamorphoses Part 11  Prose  Prose\n",
       "3               Statius Thebaid Part 2  Verse  Verse\n",
       "4  Valerius Flaccus Argonautica Part 5  Verse  Verse"
      ]
     },
     "execution_count": 11,
     "metadata": {},
     "output_type": "execute_result"
    }
   ],
   "source": [
    "predictions = np.matrix(list(zip(cross_val_predict(clf, X_scaled, Y, cv=5))))\n",
    "df_predictions = pd.DataFrame(predictions)\n",
    "df_names = df[['Corpus Name', 'Type']]\n",
    "output = np.concatenate([df_names, df_predictions], axis=1)\n",
    "df_output = pd.DataFrame(output)\n",
    "\n",
    "df_output.head()"
   ]
  },
  {
   "cell_type": "markdown",
   "id": "tired-newfoundland",
   "metadata": {},
   "source": [
    "# Explicando o modelo Random Forest"
   ]
  },
  {
   "cell_type": "markdown",
   "id": "small-agent",
   "metadata": {},
   "source": [
    "### Feature ranking por importancia de Gini"
   ]
  },
  {
   "cell_type": "code",
   "execution_count": 12,
   "id": "perceived-environment",
   "metadata": {
    "scrolled": true
   },
   "outputs": [],
   "source": [
    "clf.fit(X_scaled,Y)\n",
    "rankings = np.matrix(sorted(list(zip(features, clf.feature_importances_)), key=lambda x: x[1]))"
   ]
  },
  {
   "cell_type": "code",
   "execution_count": 13,
   "id": "cubic-blowing",
   "metadata": {},
   "outputs": [
    {
     "data": {
      "text/html": [
       "<div>\n",
       "<style scoped>\n",
       "    .dataframe tbody tr th:only-of-type {\n",
       "        vertical-align: middle;\n",
       "    }\n",
       "\n",
       "    .dataframe tbody tr th {\n",
       "        vertical-align: top;\n",
       "    }\n",
       "\n",
       "    .dataframe thead th {\n",
       "        text-align: right;\n",
       "    }\n",
       "</style>\n",
       "<table border=\"1\" class=\"dataframe\">\n",
       "  <thead>\n",
       "    <tr style=\"text-align: right;\">\n",
       "      <th></th>\n",
       "      <th>0</th>\n",
       "      <th>1</th>\n",
       "    </tr>\n",
       "  </thead>\n",
       "  <tbody>\n",
       "    <tr>\n",
       "      <th>0</th>\n",
       "      <td>Relative Clauses</td>\n",
       "      <td>0.22135789533165803</td>\n",
       "    </tr>\n",
       "    <tr>\n",
       "      <th>1</th>\n",
       "      <td>Superlatives</td>\n",
       "      <td>0.198539066898764</td>\n",
       "    </tr>\n",
       "    <tr>\n",
       "      <th>2</th>\n",
       "      <td>Quidam</td>\n",
       "      <td>0.17068546476121393</td>\n",
       "    </tr>\n",
       "    <tr>\n",
       "      <th>3</th>\n",
       "      <td>Prepositions</td>\n",
       "      <td>0.08291519786817306</td>\n",
       "    </tr>\n",
       "    <tr>\n",
       "      <th>4</th>\n",
       "      <td>Idem</td>\n",
       "      <td>0.08173443933378975</td>\n",
       "    </tr>\n",
       "    <tr>\n",
       "      <th>5</th>\n",
       "      <td>Vocatives</td>\n",
       "      <td>0.0524600206881329</td>\n",
       "    </tr>\n",
       "    <tr>\n",
       "      <th>6</th>\n",
       "      <td>Gerunds and Gerundives</td>\n",
       "      <td>0.044411397834584386</td>\n",
       "    </tr>\n",
       "    <tr>\n",
       "      <th>7</th>\n",
       "      <td>Dum</td>\n",
       "      <td>0.029153605560220907</td>\n",
       "    </tr>\n",
       "    <tr>\n",
       "      <th>8</th>\n",
       "      <td>Demonstrative Pronouns</td>\n",
       "      <td>0.02238707884708819</td>\n",
       "    </tr>\n",
       "    <tr>\n",
       "      <th>9</th>\n",
       "      <td>Ut</td>\n",
       "      <td>0.01921376319949409</td>\n",
       "    </tr>\n",
       "    <tr>\n",
       "      <th>10</th>\n",
       "      <td>Cum</td>\n",
       "      <td>0.012160182944446249</td>\n",
       "    </tr>\n",
       "  </tbody>\n",
       "</table>\n",
       "</div>"
      ],
      "text/plain": [
       "                         0                     1\n",
       "0         Relative Clauses   0.22135789533165803\n",
       "1             Superlatives     0.198539066898764\n",
       "2                   Quidam   0.17068546476121393\n",
       "3             Prepositions   0.08291519786817306\n",
       "4                     Idem   0.08173443933378975\n",
       "5                Vocatives    0.0524600206881329\n",
       "6   Gerunds and Gerundives  0.044411397834584386\n",
       "7                      Dum  0.029153605560220907\n",
       "8   Demonstrative Pronouns   0.02238707884708819\n",
       "9                       Ut   0.01921376319949409\n",
       "10                     Cum  0.012160182944446249"
      ]
     },
     "execution_count": 13,
     "metadata": {},
     "output_type": "execute_result"
    }
   ],
   "source": [
    "# Print feature rankings to file\n",
    "df_rankings = pd.DataFrame(rankings[::-1])\n",
    "df_rankings[:11]"
   ]
  },
  {
   "cell_type": "code",
   "execution_count": 14,
   "id": "illegal-greeting",
   "metadata": {},
   "outputs": [
    {
     "data": {
      "image/png": "[encoded data removed]",
      "text/plain": [
       "<Figure size 432x288 with 1 Axes>"
      ]
     },
     "metadata": {
      "needs_background": "light"
     },
     "output_type": "display_data"
    }
   ],
   "source": [
    "importances = clf.feature_importances_\n",
    "indices = np.argsort(importances)\n",
    "\n",
    "plt.title('Feature Importances')\n",
    "plt.barh(range(len(indices)), importances[indices], color='b', align='center')\n",
    "plt.yticks(range(len(indices)), [features[i] for i in indices])\n",
    "plt.xlabel('Relative Importance')\n",
    "plt.show()"
   ]
  },
  {
   "cell_type": "markdown",
   "id": "graduate-complaint",
   "metadata": {},
   "source": [
    "### Rankeando com o shap"
   ]
  },
  {
   "cell_type": "markdown",
   "id": "proud-dubai",
   "metadata": {},
   "source": [
    "O shap é um pacote que pode ser utilizado quando a finalidade é tentar entender o que está acontecendo em um determinado modelo"
   ]
  },
  {
   "cell_type": "code",
   "execution_count": 15,
   "id": "assured-michigan",
   "metadata": {},
   "outputs": [],
   "source": [
    "X = pd.DataFrame(X, columns = features)"
   ]
  },
  {
   "cell_type": "markdown",
   "id": "adjustable-favorite",
   "metadata": {},
   "source": [
    "#### Prosa"
   ]
  },
  {
   "cell_type": "code",
   "execution_count": 16,
   "id": "horizontal-missile",
   "metadata": {},
   "outputs": [
    {
     "data": {
      "image/png": "[encoded data removed]",
      "text/plain": [
       "<Figure size 576x468 with 1 Axes>"
      ]
     },
     "metadata": {},
     "output_type": "display_data"
    }
   ],
   "source": [
    "rf = clf.fit(X,Y)\n",
    "\n",
    "explainer = shap.Explainer(rf)\n",
    "shap_test = explainer(X)\n",
    "shap.plots.bar(shap_test[:,:,0])"
   ]
  },
  {
   "cell_type": "code",
   "execution_count": 17,
   "id": "balanced-crystal",
   "metadata": {},
   "outputs": [
    {
     "data": {
      "image/png": "[encoded data removed]",
      "text/plain": [
       "<Figure size 576x468 with 3 Axes>"
      ]
     },
     "metadata": {},
     "output_type": "display_data"
    }
   ],
   "source": [
    "shap.plots.waterfall(shap_test[:,:,0][0]) # predição para uma observação"
   ]
  },
  {
   "cell_type": "markdown",
   "id": "sharp-glass",
   "metadata": {},
   "source": [
    "#### Verso"
   ]
  },
  {
   "cell_type": "code",
   "execution_count": 18,
   "id": "scheduled-accreditation",
   "metadata": {},
   "outputs": [
    {
     "data": {
      "image/png": "[encoded data removed]",
      "text/plain": [
       "<Figure size 576x468 with 1 Axes>"
      ]
     },
     "metadata": {},
     "output_type": "display_data"
    }
   ],
   "source": [
    "explainer = shap.Explainer(rf)\n",
    "shap_test = explainer(X)\n",
    "shap.plots.bar(shap_test[:,:,1])"
   ]
  },
  {
   "cell_type": "code",
   "execution_count": 19,
   "id": "fatal-papua",
   "metadata": {},
   "outputs": [
    {
     "data": {
      "image/png": "[encoded data removed]",
      "text/plain": [
       "<Figure size 576x468 with 3 Axes>"
      ]
     },
     "metadata": {},
     "output_type": "display_data"
    }
   ],
   "source": [
    "shap.plots.waterfall(shap_test[:,:,1][3]) # predicao de cada observacao"
   ]
  },
  {
   "cell_type": "markdown",
   "id": "binding-familiar",
   "metadata": {},
   "source": [
    "## AdaBoosting"
   ]
  },
  {
   "cell_type": "code",
   "execution_count": 20,
   "id": "ultimate-stewart",
   "metadata": {},
   "outputs": [
    {
     "data": {
      "text/plain": [
       "{'learning_rate': 1, 'n_estimators': 100}"
      ]
     },
     "execution_count": 20,
     "metadata": {},
     "output_type": "execute_result"
    }
   ],
   "source": [
    "# Criando grid com os parâmetros que vão ser testados\n",
    "param_grid = {\n",
    "    \"n_estimators\": [10,20,50,100,150],\n",
    "    \"learning_rate\": [0.0001, 0.001, 0.01, 0.1, 0.5, 0.8, 1]\n",
    "}\n",
    "# Criando o modelo\n",
    "adb = AdaBoostClassifier()\n",
    "adb_cv = model_selection.GridSearchCV(estimator=adb, param_grid=param_grid, cv=10)\n",
    "adb_cv.fit(X_scaled, Y)\n",
    "\n",
    "# Mostrando os melhores parâmetros\n",
    "adb_cv.best_params_"
   ]
  },
  {
   "cell_type": "code",
   "execution_count": 29,
   "id": "single-margin",
   "metadata": {},
   "outputs": [
    {
     "data": {
      "text/html": [
       "<div>\n",
       "<style scoped>\n",
       "    .dataframe tbody tr th:only-of-type {\n",
       "        vertical-align: middle;\n",
       "    }\n",
       "\n",
       "    .dataframe tbody tr th {\n",
       "        vertical-align: top;\n",
       "    }\n",
       "\n",
       "    .dataframe thead th {\n",
       "        text-align: right;\n",
       "    }\n",
       "</style>\n",
       "<table border=\"1\" class=\"dataframe\">\n",
       "  <thead>\n",
       "    <tr style=\"text-align: right;\">\n",
       "      <th></th>\n",
       "      <th>0</th>\n",
       "    </tr>\n",
       "  </thead>\n",
       "  <tbody>\n",
       "    <tr>\n",
       "      <th>0</th>\n",
       "      <td>0.983051</td>\n",
       "    </tr>\n",
       "    <tr>\n",
       "      <th>1</th>\n",
       "      <td>1.000000</td>\n",
       "    </tr>\n",
       "    <tr>\n",
       "      <th>2</th>\n",
       "      <td>0.974359</td>\n",
       "    </tr>\n",
       "    <tr>\n",
       "      <th>3</th>\n",
       "      <td>0.965812</td>\n",
       "    </tr>\n",
       "    <tr>\n",
       "      <th>4</th>\n",
       "      <td>0.965812</td>\n",
       "    </tr>\n",
       "  </tbody>\n",
       "</table>\n",
       "</div>"
      ],
      "text/plain": [
       "          0\n",
       "0  0.983051\n",
       "1  1.000000\n",
       "2  0.974359\n",
       "3  0.965812\n",
       "4  0.965812"
      ]
     },
     "execution_count": 29,
     "metadata": {},
     "output_type": "execute_result"
    }
   ],
   "source": [
    "adb = AdaBoostClassifier(learning_rate = 0.1, n_estimators = 100)\n",
    "results_ada = model_selection.cross_val_score(clf, X_scaled, Y, cv=5, scoring='accuracy')\n",
    "\n",
    "\n",
    "ada_results = pd.DataFrame(results)\n",
    "ada_results"
   ]
  },
  {
   "cell_type": "code",
   "execution_count": 30,
   "id": "killing-theorem",
   "metadata": {},
   "outputs": [
    {
     "data": {
      "text/plain": [
       "0    0.977807\n",
       "dtype: float64"
      ]
     },
     "execution_count": 30,
     "metadata": {},
     "output_type": "execute_result"
    }
   ],
   "source": [
    "ada_results.mean()"
   ]
  },
  {
   "cell_type": "markdown",
   "id": "latest-commissioner",
   "metadata": {},
   "source": [
    "## Support Vector Machine"
   ]
  },
  {
   "cell_type": "markdown",
   "id": "checked-keyboard",
   "metadata": {},
   "source": [
    "### 5-fold cross validation"
   ]
  },
  {
   "cell_type": "code",
   "execution_count": 21,
   "id": "cardiac-drama",
   "metadata": {},
   "outputs": [
    {
     "data": {
      "text/html": [
       "<div>\n",
       "<style scoped>\n",
       "    .dataframe tbody tr th:only-of-type {\n",
       "        vertical-align: middle;\n",
       "    }\n",
       "\n",
       "    .dataframe tbody tr th {\n",
       "        vertical-align: top;\n",
       "    }\n",
       "\n",
       "    .dataframe thead th {\n",
       "        text-align: right;\n",
       "    }\n",
       "</style>\n",
       "<table border=\"1\" class=\"dataframe\">\n",
       "  <thead>\n",
       "    <tr style=\"text-align: right;\">\n",
       "      <th></th>\n",
       "      <th>0</th>\n",
       "    </tr>\n",
       "  </thead>\n",
       "  <tbody>\n",
       "    <tr>\n",
       "      <th>0</th>\n",
       "      <td>0.983051</td>\n",
       "    </tr>\n",
       "    <tr>\n",
       "      <th>1</th>\n",
       "      <td>1.000000</td>\n",
       "    </tr>\n",
       "    <tr>\n",
       "      <th>2</th>\n",
       "      <td>0.974359</td>\n",
       "    </tr>\n",
       "    <tr>\n",
       "      <th>3</th>\n",
       "      <td>0.965812</td>\n",
       "    </tr>\n",
       "    <tr>\n",
       "      <th>4</th>\n",
       "      <td>0.965812</td>\n",
       "    </tr>\n",
       "  </tbody>\n",
       "</table>\n",
       "</div>"
      ],
      "text/plain": [
       "          0\n",
       "0  0.983051\n",
       "1  1.000000\n",
       "2  0.974359\n",
       "3  0.965812\n",
       "4  0.965812"
      ]
     },
     "execution_count": 21,
     "metadata": {},
     "output_type": "execute_result"
    }
   ],
   "source": [
    "clf = svm.SVC(kernel='linear',probability=True,C=0.5)\n",
    "results = model_selection.cross_val_score(clf, X_scaled, Y, cv=5, scoring='accuracy')\n",
    "\n",
    "# Print accuracies for each fold to file\n",
    "df_results = pd.DataFrame(results)\n",
    "df_results"
   ]
  },
  {
   "cell_type": "code",
   "execution_count": 22,
   "id": "gentle-shame",
   "metadata": {},
   "outputs": [
    {
     "data": {
      "text/plain": [
       "0.9778067506881067"
      ]
     },
     "execution_count": 22,
     "metadata": {},
     "output_type": "execute_result"
    }
   ],
   "source": [
    "results.mean()"
   ]
  },
  {
   "cell_type": "code",
   "execution_count": 23,
   "id": "loving-appraisal",
   "metadata": {},
   "outputs": [],
   "source": [
    "# Print predicted labels for each text to file\n",
    "predictions = np.matrix(list(zip(cross_val_predict(clf, X_scaled, Y, cv=5))))\n",
    "df_predictions = pd.DataFrame(predictions)\n",
    "df_names = df[['Corpus Name', 'Type']]\n",
    "output = np.concatenate([df_names, df_predictions], axis=1)\n",
    "df_output = pd.DataFrame(output)"
   ]
  },
  {
   "cell_type": "markdown",
   "id": "mineral-optimum",
   "metadata": {},
   "source": [
    "Peso das características"
   ]
  },
  {
   "cell_type": "code",
   "execution_count": 24,
   "id": "split-bridge",
   "metadata": {},
   "outputs": [
    {
     "data": {
      "text/html": [
       "<div>\n",
       "<style scoped>\n",
       "    .dataframe tbody tr th:only-of-type {\n",
       "        vertical-align: middle;\n",
       "    }\n",
       "\n",
       "    .dataframe tbody tr th {\n",
       "        vertical-align: top;\n",
       "    }\n",
       "\n",
       "    .dataframe thead th {\n",
       "        text-align: right;\n",
       "    }\n",
       "</style>\n",
       "<table border=\"1\" class=\"dataframe\">\n",
       "  <thead>\n",
       "    <tr style=\"text-align: right;\">\n",
       "      <th></th>\n",
       "      <th>0</th>\n",
       "      <th>1</th>\n",
       "    </tr>\n",
       "  </thead>\n",
       "  <tbody>\n",
       "    <tr>\n",
       "      <th>0</th>\n",
       "      <td>Superlatives</td>\n",
       "      <td>-2.6910779690778868</td>\n",
       "    </tr>\n",
       "    <tr>\n",
       "      <th>1</th>\n",
       "      <td>Antequam</td>\n",
       "      <td>-1.6516790570077053</td>\n",
       "    </tr>\n",
       "    <tr>\n",
       "      <th>2</th>\n",
       "      <td>Relative Clauses</td>\n",
       "      <td>-1.5636895166121028</td>\n",
       "    </tr>\n",
       "    <tr>\n",
       "      <th>3</th>\n",
       "      <td>Quidam</td>\n",
       "      <td>-1.5315542470842236</td>\n",
       "    </tr>\n",
       "    <tr>\n",
       "      <th>4</th>\n",
       "      <td>Alius</td>\n",
       "      <td>-1.497268290016345</td>\n",
       "    </tr>\n",
       "  </tbody>\n",
       "</table>\n",
       "</div>"
      ],
      "text/plain": [
       "                  0                    1\n",
       "0      Superlatives  -2.6910779690778868\n",
       "1          Antequam  -1.6516790570077053\n",
       "2  Relative Clauses  -1.5636895166121028\n",
       "3            Quidam  -1.5315542470842236\n",
       "4             Alius   -1.497268290016345"
      ]
     },
     "execution_count": 24,
     "metadata": {},
     "output_type": "execute_result"
    }
   ],
   "source": [
    "clf.fit(X_scaled,Y)\n",
    "weights = list(clf.coef_)\n",
    "weights_output = np.matrix(sorted(list(zip(features, weights[0])), key=lambda x: x[1]))\n",
    "\n",
    "df_rankings = pd.DataFrame(weights_output)\n",
    "df_rankings.head()"
   ]
  }
 ],
 "metadata": {
  "kernelspec": {
   "display_name": "Python 3",
   "language": "python",
   "name": "python3"
  },
  "language_info": {
   "codemirror_mode": {
    "name": "ipython",
    "version": 3
   },
   "file_extension": ".py",
   "mimetype": "text/x-python",
   "name": "python",
   "nbconvert_exporter": "python",
   "pygments_lexer": "ipython3",
   "version": "3.7.1"
  }
 },
 "nbformat": 4,
 "nbformat_minor": 5
}
